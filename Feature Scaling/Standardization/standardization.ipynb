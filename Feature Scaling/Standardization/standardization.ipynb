{
 "cells": [
  {
   "cell_type": "markdown",
   "id": "00652751",
   "metadata": {},
   "source": [
    "## Standardization (z-score Normalization)\n",
    "\n",
    "Standardization is just transforming your columns/features into new fixed range. It is usually performed at the end and is easy step.\n",
    "\n",
    "                                    Formula : Xi' = (Xi - mean) / standard deviation\n",
    "\n",
    "So, After transfromation you new features have mean = 0 and standard deviation is = 1.\\\n",
    "It is recommended that use feature scaling after train split test and fit on traning data and transform on both train and test data."
   ]
  },
  {
   "cell_type": "code",
   "execution_count": 2,
   "id": "27dd520e",
   "metadata": {},
   "outputs": [],
   "source": [
    "# import liberaries\n",
    "import numpy as np\n",
    "import pandas as pd\n",
    "import matplotlib.pyplot as plt\n",
    "import seaborn as sns"
   ]
  },
  {
   "cell_type": "code",
   "execution_count": null,
   "id": "410124bd",
   "metadata": {},
   "outputs": [],
   "source": []
  }
 ],
 "metadata": {
  "kernelspec": {
   "display_name": "python",
   "language": "python",
   "name": "python3"
  },
  "language_info": {
   "codemirror_mode": {
    "name": "ipython",
    "version": 3
   },
   "file_extension": ".py",
   "mimetype": "text/x-python",
   "name": "python",
   "nbconvert_exporter": "python",
   "pygments_lexer": "ipython3",
   "version": "3.12.3"
  }
 },
 "nbformat": 4,
 "nbformat_minor": 5
}
