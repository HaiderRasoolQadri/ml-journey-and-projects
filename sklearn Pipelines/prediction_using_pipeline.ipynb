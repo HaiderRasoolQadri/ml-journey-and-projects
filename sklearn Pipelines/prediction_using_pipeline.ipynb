{
 "cells": [
  {
   "cell_type": "code",
   "execution_count": 18,
   "id": "1116007b",
   "metadata": {},
   "outputs": [],
   "source": [
    "import numpy as np\n",
    "import pandas as pd\n",
    "\n",
    "import pickle"
   ]
  },
  {
   "cell_type": "code",
   "execution_count": 14,
   "id": "028904b3",
   "metadata": {},
   "outputs": [],
   "source": [
    "# Load the model\n",
    "pipeline = pickle.load(open('pipeline.pkl', 'rb'))"
   ]
  },
  {
   "cell_type": "code",
   "execution_count": 15,
   "id": "526b4677",
   "metadata": {},
   "outputs": [
    {
     "data": {
      "text/plain": [
       "array([[2, 'male', 31.0, 0, 0, 10.5, 'S']], dtype=object)"
      ]
     },
     "execution_count": 15,
     "metadata": {},
     "output_type": "execute_result"
    }
   ],
   "source": [
    "# Unseen test data\n",
    "test_input = np.array([2, 'male', 31.0, 0, 0, 10.5, 'S'], dtype=object).reshape(1,7)\n",
    "test_input"
   ]
  },
  {
   "cell_type": "code",
   "execution_count": 20,
   "id": "3d8e827c",
   "metadata": {},
   "outputs": [
    {
     "data": {
      "text/html": [
       "<div>\n",
       "<style scoped>\n",
       "    .dataframe tbody tr th:only-of-type {\n",
       "        vertical-align: middle;\n",
       "    }\n",
       "\n",
       "    .dataframe tbody tr th {\n",
       "        vertical-align: top;\n",
       "    }\n",
       "\n",
       "    .dataframe thead th {\n",
       "        text-align: right;\n",
       "    }\n",
       "</style>\n",
       "<table border=\"1\" class=\"dataframe\">\n",
       "  <thead>\n",
       "    <tr style=\"text-align: right;\">\n",
       "      <th></th>\n",
       "      <th>Pclass</th>\n",
       "      <th>Sex</th>\n",
       "      <th>Age</th>\n",
       "      <th>SibSp</th>\n",
       "      <th>Parch</th>\n",
       "      <th>Fare</th>\n",
       "      <th>Embarked</th>\n",
       "    </tr>\n",
       "  </thead>\n",
       "  <tbody>\n",
       "    <tr>\n",
       "      <th>0</th>\n",
       "      <td>2</td>\n",
       "      <td>male</td>\n",
       "      <td>31.0</td>\n",
       "      <td>0</td>\n",
       "      <td>0</td>\n",
       "      <td>10.5</td>\n",
       "      <td>S</td>\n",
       "    </tr>\n",
       "  </tbody>\n",
       "</table>\n",
       "</div>"
      ],
      "text/plain": [
       "   Pclass   Sex   Age  SibSp  Parch  Fare Embarked\n",
       "0       2  male  31.0      0      0  10.5        S"
      ]
     },
     "execution_count": 20,
     "metadata": {},
     "output_type": "execute_result"
    }
   ],
   "source": [
    "# Convert it into pandas dataframe\n",
    "test_input = pd.DataFrame([{\n",
    "    'Pclass': 2,\n",
    "    'Sex': 'male',\n",
    "    'Age': 31.0,\n",
    "    'SibSp': 0,\n",
    "    'Parch': 0,\n",
    "    'Fare': 10.5,\n",
    "    'Embarked': 'S'\n",
    "}])\n",
    "test_input"
   ]
  },
  {
   "cell_type": "code",
   "execution_count": 21,
   "id": "980fd345",
   "metadata": {},
   "outputs": [
    {
     "data": {
      "text/plain": [
       "array([1], dtype=int64)"
      ]
     },
     "execution_count": 21,
     "metadata": {},
     "output_type": "execute_result"
    }
   ],
   "source": [
    "pipeline.predict(test_input)"
   ]
  },
  {
   "cell_type": "markdown",
   "id": "5259cde2",
   "metadata": {},
   "source": [
    "Using a scikit-learn pipeline is especially powerful for deployment because it bundles all preprocessing steps (like imputing missing values, encoding categorical variables, and scaling) together with the model into a single object; this ensures that the exact same transformations learned during training are automatically applied at prediction time. Unlike manual preprocessing, which is error-prone and hard to maintain, a pipeline makes deployment simple and reliable—once trained and saved (e.g., as **pipeline.pkl**), you only need to load the pipeline and call predict on new data, without worrying about handling categorical variables, missing values, or feature scaling explicitly."
   ]
  }
 ],
 "metadata": {
  "kernelspec": {
   "display_name": "python",
   "language": "python",
   "name": "python3"
  },
  "language_info": {
   "codemirror_mode": {
    "name": "ipython",
    "version": 3
   },
   "file_extension": ".py",
   "mimetype": "text/x-python",
   "name": "python",
   "nbconvert_exporter": "python",
   "pygments_lexer": "ipython3",
   "version": "3.12.3"
  }
 },
 "nbformat": 4,
 "nbformat_minor": 5
}
