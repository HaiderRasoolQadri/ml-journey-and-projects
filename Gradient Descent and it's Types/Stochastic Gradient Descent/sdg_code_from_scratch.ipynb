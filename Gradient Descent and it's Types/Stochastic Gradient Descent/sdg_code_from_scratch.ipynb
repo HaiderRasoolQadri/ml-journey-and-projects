{
 "cells": [
  {
   "cell_type": "code",
   "execution_count": 21,
   "id": "a2302b3e",
   "metadata": {},
   "outputs": [],
   "source": [
    "import numpy as np\n",
    "import pandas as pd\n",
    "\n",
    "from sklearn.datasets import load_diabetes\n",
    "from sklearn.linear_model import LinearRegression\n",
    "from sklearn.model_selection import train_test_split\n",
    "from sklearn.metrics import r2_score"
   ]
  },
  {
   "cell_type": "code",
   "execution_count": 22,
   "id": "df620600",
   "metadata": {},
   "outputs": [],
   "source": [
    "X,y = load_diabetes(return_X_y=True)"
   ]
  },
  {
   "cell_type": "code",
   "execution_count": 23,
   "id": "ca67005d",
   "metadata": {},
   "outputs": [
    {
     "data": {
      "text/plain": [
       "array([[ 0.03807591,  0.05068012,  0.06169621, ..., -0.00259226,\n",
       "         0.01990749, -0.01764613],\n",
       "       [-0.00188202, -0.04464164, -0.05147406, ..., -0.03949338,\n",
       "        -0.06833155, -0.09220405],\n",
       "       [ 0.08529891,  0.05068012,  0.04445121, ..., -0.00259226,\n",
       "         0.00286131, -0.02593034],\n",
       "       ...,\n",
       "       [ 0.04170844,  0.05068012, -0.01590626, ..., -0.01107952,\n",
       "        -0.04688253,  0.01549073],\n",
       "       [-0.04547248, -0.04464164,  0.03906215, ...,  0.02655962,\n",
       "         0.04452873, -0.02593034],\n",
       "       [-0.04547248, -0.04464164, -0.0730303 , ..., -0.03949338,\n",
       "        -0.00422151,  0.00306441]])"
      ]
     },
     "execution_count": 23,
     "metadata": {},
     "output_type": "execute_result"
    }
   ],
   "source": [
    "X"
   ]
  },
  {
   "cell_type": "code",
   "execution_count": 24,
   "id": "8da16efc",
   "metadata": {},
   "outputs": [
    {
     "name": "stdout",
     "output_type": "stream",
     "text": [
      "(442, 10)\n",
      "(442,)\n"
     ]
    }
   ],
   "source": [
    "print(X.shape)\n",
    "print(y.shape)"
   ]
  },
  {
   "cell_type": "code",
   "execution_count": 25,
   "id": "4d2e4468",
   "metadata": {},
   "outputs": [],
   "source": [
    "X_train,X_test,y_train,y_test = train_test_split(X,y,test_size=0.2,random_state=42)"
   ]
  },
  {
   "cell_type": "code",
   "execution_count": 26,
   "id": "c59414d1",
   "metadata": {},
   "outputs": [],
   "source": [
    "# Lets create our own Stochastic Gradient Descent Class\n",
    "class StochasticGradientDescent:\n",
    "\n",
    "    def __init__(self, epochs, learning_rate):\n",
    "        self.epochs = epochs\n",
    "        self.learning_rate = learning_rate\n",
    "        self.intercept_ = None\n",
    "        self.coef_ = None\n",
    "\n",
    "    def fit(self, X_train, y_train):   \n",
    "        # Initializaing parameters\n",
    "        self.intercept_ = 0\n",
    "        self.coef_ = np.ones(X_train.shape[1])\n",
    "\n",
    "        for i in range(self.epochs):\n",
    "            for j in range(X_train.shape[0]):\n",
    "                ran_indx = np.random.randint(0, X_train.shape[0])\n",
    "\n",
    "                # Updating coef_ and intercept_\n",
    "                y_hat = np.dot(X_train[ran_indx], self.coef_) + self.intercept_\n",
    "\n",
    "                intercept_der = -2 * np.mean(y_train[ran_indx] - y_hat) \n",
    "                self.intercept_ -= self.learning_rate * intercept_der\n",
    "\n",
    "                coef_der = -2 * np.dot((y_train[ran_indx] - y_hat), X_train[ran_indx])\n",
    "                self.coef_ -= self.learning_rate * coef_der\n",
    "\n",
    "        print(\"Intercept:\", self.intercept_)\n",
    "        print(\"Coefficient(s):\", self.coef_)\n",
    "\n",
    "    def predict(self, X_test):\n",
    "        return np.dot(X_test, self.coef_) + self.intercept_"
   ]
  },
  {
   "cell_type": "code",
   "execution_count": 27,
   "id": "b1136996",
   "metadata": {},
   "outputs": [],
   "source": [
    "sgd = StochasticGradientDescent(epochs=50, learning_rate=0.01)"
   ]
  },
  {
   "cell_type": "code",
   "execution_count": 28,
   "id": "b5337135",
   "metadata": {},
   "outputs": [
    {
     "name": "stdout",
     "output_type": "stream",
     "text": [
      "Intercept: 147.77668651051044\n",
      "Coefficient(s): [  46.35456975  -88.79096935  362.32614537  252.77506211   -5.18377885\n",
      "  -37.44015696 -184.63120544  149.5532261   280.11697418  143.08240427]\n"
     ]
    }
   ],
   "source": [
    "sgd.fit(X_train,y_train)"
   ]
  },
  {
   "cell_type": "code",
   "execution_count": 29,
   "id": "c3badda8",
   "metadata": {},
   "outputs": [
    {
     "data": {
      "text/plain": [
       "array([152.14045969, 160.2103605 , 149.63338199, 265.05623892,\n",
       "       137.35184605, 114.16804782, 230.09755295, 194.81240434,\n",
       "       101.0571063 , 126.45050975, 103.40926492, 137.79393782,\n",
       "        67.90233065, 204.28489058, 115.2835686 , 132.18642331,\n",
       "       213.57250212, 233.28200066, 170.9406626 , 202.82401239,\n",
       "       176.8376921 ,  99.79608703,  84.27079373, 182.38374966,\n",
       "       141.41764862, 161.86818809, 176.69582728, 170.22546339,\n",
       "        59.04732715, 131.29749121, 169.52244093, 100.52682229,\n",
       "       137.27989236, 178.36153989, 170.00861453, 183.17202449,\n",
       "       134.3428474 , 137.19675239, 163.54503855,  70.05850438,\n",
       "        92.71644285, 119.6142153 , 150.37392996, 162.66344387,\n",
       "       163.56841728,  75.2345077 ,  86.81022984,  99.98597798,\n",
       "        69.76887154, 141.24853713, 132.17911224,  72.07310251,\n",
       "       128.07620421, 110.83569829, 177.63971952, 137.9045355 ,\n",
       "       109.0039326 , 185.13466794, 111.0222415 ,  70.32503445,\n",
       "       179.96604244, 173.38086529, 134.09443194, 122.61503284,\n",
       "       128.61071777, 181.88576244, 173.63911256, 156.82855538,\n",
       "       101.24340906, 141.68165481, 169.90923308, 194.34525249,\n",
       "       228.35731753, 139.49701254,  87.25598461, 160.96464916,\n",
       "       196.00660772, 181.465571  , 161.29924294, 184.0540779 ,\n",
       "       114.53648105, 116.99415069,  64.98260982,  75.96482246,\n",
       "       114.00613122,  90.33602858,  72.70121305,  69.64062231,\n",
       "       142.55065418])"
      ]
     },
     "execution_count": 29,
     "metadata": {},
     "output_type": "execute_result"
    }
   ],
   "source": [
    "y_pred = sgd.predict(X_test)\n",
    "y_pred"
   ]
  },
  {
   "cell_type": "code",
   "execution_count": 30,
   "id": "03a34a83",
   "metadata": {},
   "outputs": [
    {
     "data": {
      "text/plain": [
       "0.44209128893120486"
      ]
     },
     "execution_count": 30,
     "metadata": {},
     "output_type": "execute_result"
    }
   ],
   "source": [
    "r2_score(y_test,y_pred)"
   ]
  }
 ],
 "metadata": {
  "kernelspec": {
   "display_name": "python",
   "language": "python",
   "name": "python3"
  },
  "language_info": {
   "codemirror_mode": {
    "name": "ipython",
    "version": 3
   },
   "file_extension": ".py",
   "mimetype": "text/x-python",
   "name": "python",
   "nbconvert_exporter": "python",
   "pygments_lexer": "ipython3",
   "version": "3.12.3"
  }
 },
 "nbformat": 4,
 "nbformat_minor": 5
}
