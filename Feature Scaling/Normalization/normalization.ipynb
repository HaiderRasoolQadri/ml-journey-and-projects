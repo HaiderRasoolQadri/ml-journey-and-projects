{
 "cells": [
  {
   "cell_type": "markdown",
   "id": "77dbf9dc",
   "metadata": {},
   "source": [
    "## Normalization (MinMax Scaling)\n",
    "This transforms feature values into a fixed range, usually 0 to 1.\n",
    "\n",
    "Formula:\n",
    "\n",
    "                                            Xi' = (Xi - Min) / (Max - Min)\n",
    "\n",
    "where, Min and Max are the minumum and maximum values in the feature.\n",
    "\n",
    "### Example (salary):\n",
    "\n",
    "Original: [20,000, 50,000, 90,000]\\\n",
    "Normalized (0–1): [0.0, 0.43, 1.0] every value is in-between 0 and 1. \n",
    "\n",
    "### Key Points:\n",
    "- When features have different scales but you want them all in the same range.\n",
    "- Works best when the data is not normally distributed.\n",
    "- May change the shape of the distribution because everything is compresses or stretches in-between 0-1.\n",
    "- Good for algorithms that calculate distance where having everything between 0–1 is important.\n",
    "  1. KNN\n",
    "  2. Neural Networks\n",
    "  3. K-means Clustering\n",
    "- Sensitive to outliers.\n",
    "\n"
   ]
  },
  {
   "cell_type": "code",
   "execution_count": 2,
   "id": "91489ff5",
   "metadata": {},
   "outputs": [],
   "source": [
    "# Import liberaries\n",
    "import numpy as np\n",
    "import pandas as pd\n",
    "import matplotlib.pyplot as plt\n",
    "import seaborn as sns"
   ]
  },
  {
   "cell_type": "code",
   "execution_count": 3,
   "id": "7b19eedc",
   "metadata": {},
   "outputs": [
    {
     "data": {
      "text/html": [
       "<div>\n",
       "<style scoped>\n",
       "    .dataframe tbody tr th:only-of-type {\n",
       "        vertical-align: middle;\n",
       "    }\n",
       "\n",
       "    .dataframe tbody tr th {\n",
       "        vertical-align: top;\n",
       "    }\n",
       "\n",
       "    .dataframe thead th {\n",
       "        text-align: right;\n",
       "    }\n",
       "</style>\n",
       "<table border=\"1\" class=\"dataframe\">\n",
       "  <thead>\n",
       "    <tr style=\"text-align: right;\">\n",
       "      <th></th>\n",
       "      <th>Age</th>\n",
       "      <th>Gender</th>\n",
       "      <th>Education Level</th>\n",
       "      <th>Job Title</th>\n",
       "      <th>Years of Experience</th>\n",
       "      <th>Salary</th>\n",
       "    </tr>\n",
       "  </thead>\n",
       "  <tbody>\n",
       "    <tr>\n",
       "      <th>65</th>\n",
       "      <td>38.0</td>\n",
       "      <td>Female</td>\n",
       "      <td>Master's</td>\n",
       "      <td>Digital Marketing Manager</td>\n",
       "      <td>10.0</td>\n",
       "      <td>90000.0</td>\n",
       "    </tr>\n",
       "    <tr>\n",
       "      <th>16</th>\n",
       "      <td>33.0</td>\n",
       "      <td>Female</td>\n",
       "      <td>Master's</td>\n",
       "      <td>Marketing Manager</td>\n",
       "      <td>7.0</td>\n",
       "      <td>90000.0</td>\n",
       "    </tr>\n",
       "    <tr>\n",
       "      <th>288</th>\n",
       "      <td>44.0</td>\n",
       "      <td>Male</td>\n",
       "      <td>Bachelor's</td>\n",
       "      <td>Senior Software Engineer</td>\n",
       "      <td>13.0</td>\n",
       "      <td>130000.0</td>\n",
       "    </tr>\n",
       "    <tr>\n",
       "      <th>279</th>\n",
       "      <td>49.0</td>\n",
       "      <td>Female</td>\n",
       "      <td>Master's</td>\n",
       "      <td>Director of Operations</td>\n",
       "      <td>21.0</td>\n",
       "      <td>180000.0</td>\n",
       "    </tr>\n",
       "    <tr>\n",
       "      <th>272</th>\n",
       "      <td>37.0</td>\n",
       "      <td>Male</td>\n",
       "      <td>Bachelor's</td>\n",
       "      <td>Senior Financial Analyst</td>\n",
       "      <td>8.0</td>\n",
       "      <td>90000.0</td>\n",
       "    </tr>\n",
       "  </tbody>\n",
       "</table>\n",
       "</div>"
      ],
      "text/plain": [
       "      Age  Gender Education Level                  Job Title  \\\n",
       "65   38.0  Female        Master's  Digital Marketing Manager   \n",
       "16   33.0  Female        Master's          Marketing Manager   \n",
       "288  44.0    Male      Bachelor's   Senior Software Engineer   \n",
       "279  49.0  Female        Master's     Director of Operations   \n",
       "272  37.0    Male      Bachelor's   Senior Financial Analyst   \n",
       "\n",
       "     Years of Experience    Salary  \n",
       "65                  10.0   90000.0  \n",
       "16                   7.0   90000.0  \n",
       "288                 13.0  130000.0  \n",
       "279                 21.0  180000.0  \n",
       "272                  8.0   90000.0  "
      ]
     },
     "execution_count": 3,
     "metadata": {},
     "output_type": "execute_result"
    }
   ],
   "source": [
    "# Load the dataset\n",
    "df = pd.read_csv(\"Salary Data.csv\")\n",
    "df.sample(5)"
   ]
  },
  {
   "cell_type": "markdown",
   "id": "0133585a",
   "metadata": {},
   "source": [
    "### Train Test Split the data"
   ]
  },
  {
   "cell_type": "code",
   "execution_count": 4,
   "id": "b5ad9777",
   "metadata": {},
   "outputs": [],
   "source": [
    "# train_test_split and filter the data\n",
    "from sklearn.model_selection import train_test_split\n",
    "\n",
    "X = df[['Age', 'Salary']]\n",
    "y = df['Education Level']\n",
    "\n",
    "X_train, X_test, y_train, y_test = train_test_split(X, y, test_size = 0.2, random_state = 42)"
   ]
  },
  {
   "cell_type": "markdown",
   "id": "74dddca0",
   "metadata": {},
   "source": [
    "### MinMax Scalar"
   ]
  },
  {
   "cell_type": "code",
   "execution_count": 5,
   "id": "bd9a203b",
   "metadata": {},
   "outputs": [],
   "source": [
    "from sklearn.preprocessing import MinMaxScaler\n",
    "\n",
    "mms = MinMaxScaler()\n",
    "\n",
    "mms.fit(X_train)\n",
    "\n",
    "X_train_transformed = mms.transform(X_train)\n",
    "X_test_transformd = mms.transform(X_test)"
   ]
  },
  {
   "cell_type": "code",
   "execution_count": 6,
   "id": "4dad978c",
   "metadata": {},
   "outputs": [
    {
     "data": {
      "text/html": [
       "<div>\n",
       "<style scoped>\n",
       "    .dataframe tbody tr th:only-of-type {\n",
       "        vertical-align: middle;\n",
       "    }\n",
       "\n",
       "    .dataframe tbody tr th {\n",
       "        vertical-align: top;\n",
       "    }\n",
       "\n",
       "    .dataframe thead th {\n",
       "        text-align: right;\n",
       "    }\n",
       "</style>\n",
       "<table border=\"1\" class=\"dataframe\">\n",
       "  <thead>\n",
       "    <tr style=\"text-align: right;\">\n",
       "      <th></th>\n",
       "      <th>Age</th>\n",
       "      <th>Salary</th>\n",
       "    </tr>\n",
       "  </thead>\n",
       "  <tbody>\n",
       "    <tr>\n",
       "      <th>56</th>\n",
       "      <td>0.965517</td>\n",
       "      <td>0.679551</td>\n",
       "    </tr>\n",
       "    <tr>\n",
       "      <th>32</th>\n",
       "      <td>0.206897</td>\n",
       "      <td>0.238935</td>\n",
       "    </tr>\n",
       "    <tr>\n",
       "      <th>48</th>\n",
       "      <td>0.172414</td>\n",
       "      <td>0.218906</td>\n",
       "    </tr>\n",
       "    <tr>\n",
       "      <th>12</th>\n",
       "      <td>0.206897</td>\n",
       "      <td>0.158822</td>\n",
       "    </tr>\n",
       "    <tr>\n",
       "      <th>4</th>\n",
       "      <td>0.655172</td>\n",
       "      <td>0.559383</td>\n",
       "    </tr>\n",
       "  </tbody>\n",
       "</table>\n",
       "</div>"
      ],
      "text/plain": [
       "         Age    Salary\n",
       "56  0.965517  0.679551\n",
       "32  0.206897  0.238935\n",
       "48  0.172414  0.218906\n",
       "12  0.206897  0.158822\n",
       "4   0.655172  0.559383"
      ]
     },
     "execution_count": 6,
     "metadata": {},
     "output_type": "execute_result"
    }
   ],
   "source": [
    "# Converting transformed data into pandas dataframe\n",
    "X_train_transformed = pd.DataFrame(X_train_transformed, columns = X_train.columns)\n",
    "X_test_transformd = pd.DataFrame(X_test_transformd, columns = X_test.columns)\n",
    "X_test_transformd.sample(5)\n",
    "# X_test_transformed.sample(5)"
   ]
  },
  {
   "cell_type": "code",
   "execution_count": 7,
   "id": "97b65b72",
   "metadata": {},
   "outputs": [
    {
     "data": {
      "text/html": [
       "<div>\n",
       "<style scoped>\n",
       "    .dataframe tbody tr th:only-of-type {\n",
       "        vertical-align: middle;\n",
       "    }\n",
       "\n",
       "    .dataframe tbody tr th {\n",
       "        vertical-align: top;\n",
       "    }\n",
       "\n",
       "    .dataframe thead th {\n",
       "        text-align: right;\n",
       "    }\n",
       "</style>\n",
       "<table border=\"1\" class=\"dataframe\">\n",
       "  <thead>\n",
       "    <tr style=\"text-align: right;\">\n",
       "      <th></th>\n",
       "      <th>Age</th>\n",
       "      <th>Salary</th>\n",
       "    </tr>\n",
       "  </thead>\n",
       "  <tbody>\n",
       "    <tr>\n",
       "      <th>count</th>\n",
       "      <td>299.000000</td>\n",
       "      <td>299.000000</td>\n",
       "    </tr>\n",
       "    <tr>\n",
       "      <th>mean</th>\n",
       "      <td>37.535117</td>\n",
       "      <td>100352.341137</td>\n",
       "    </tr>\n",
       "    <tr>\n",
       "      <th>std</th>\n",
       "      <td>7.014936</td>\n",
       "      <td>47906.438575</td>\n",
       "    </tr>\n",
       "    <tr>\n",
       "      <th>min</th>\n",
       "      <td>24.000000</td>\n",
       "      <td>350.000000</td>\n",
       "    </tr>\n",
       "    <tr>\n",
       "      <th>25%</th>\n",
       "      <td>32.000000</td>\n",
       "      <td>55000.000000</td>\n",
       "    </tr>\n",
       "    <tr>\n",
       "      <th>50%</th>\n",
       "      <td>37.000000</td>\n",
       "      <td>95000.000000</td>\n",
       "    </tr>\n",
       "    <tr>\n",
       "      <th>75%</th>\n",
       "      <td>44.000000</td>\n",
       "      <td>140000.000000</td>\n",
       "    </tr>\n",
       "    <tr>\n",
       "      <th>max</th>\n",
       "      <td>53.000000</td>\n",
       "      <td>250000.000000</td>\n",
       "    </tr>\n",
       "  </tbody>\n",
       "</table>\n",
       "</div>"
      ],
      "text/plain": [
       "              Age         Salary\n",
       "count  299.000000     299.000000\n",
       "mean    37.535117  100352.341137\n",
       "std      7.014936   47906.438575\n",
       "min     24.000000     350.000000\n",
       "25%     32.000000   55000.000000\n",
       "50%     37.000000   95000.000000\n",
       "75%     44.000000  140000.000000\n",
       "max     53.000000  250000.000000"
      ]
     },
     "execution_count": 7,
     "metadata": {},
     "output_type": "execute_result"
    }
   ],
   "source": [
    "# Describe function on original feature\n",
    "X_train.describe()"
   ]
  },
  {
   "cell_type": "code",
   "execution_count": 8,
   "id": "192eee4e",
   "metadata": {},
   "outputs": [
    {
     "data": {
      "text/html": [
       "<div>\n",
       "<style scoped>\n",
       "    .dataframe tbody tr th:only-of-type {\n",
       "        vertical-align: middle;\n",
       "    }\n",
       "\n",
       "    .dataframe tbody tr th {\n",
       "        vertical-align: top;\n",
       "    }\n",
       "\n",
       "    .dataframe thead th {\n",
       "        text-align: right;\n",
       "    }\n",
       "</style>\n",
       "<table border=\"1\" class=\"dataframe\">\n",
       "  <thead>\n",
       "    <tr style=\"text-align: right;\">\n",
       "      <th></th>\n",
       "      <th>Age</th>\n",
       "      <th>Salary</th>\n",
       "    </tr>\n",
       "  </thead>\n",
       "  <tbody>\n",
       "    <tr>\n",
       "      <th>count</th>\n",
       "      <td>299.000000</td>\n",
       "      <td>299.000000</td>\n",
       "    </tr>\n",
       "    <tr>\n",
       "      <th>mean</th>\n",
       "      <td>0.466728</td>\n",
       "      <td>0.400570</td>\n",
       "    </tr>\n",
       "    <tr>\n",
       "      <th>std</th>\n",
       "      <td>0.241894</td>\n",
       "      <td>0.191894</td>\n",
       "    </tr>\n",
       "    <tr>\n",
       "      <th>min</th>\n",
       "      <td>0.000000</td>\n",
       "      <td>0.000000</td>\n",
       "    </tr>\n",
       "    <tr>\n",
       "      <th>25%</th>\n",
       "      <td>0.275862</td>\n",
       "      <td>0.218906</td>\n",
       "    </tr>\n",
       "    <tr>\n",
       "      <th>50%</th>\n",
       "      <td>0.448276</td>\n",
       "      <td>0.379131</td>\n",
       "    </tr>\n",
       "    <tr>\n",
       "      <th>75%</th>\n",
       "      <td>0.689655</td>\n",
       "      <td>0.559383</td>\n",
       "    </tr>\n",
       "    <tr>\n",
       "      <th>max</th>\n",
       "      <td>1.000000</td>\n",
       "      <td>1.000000</td>\n",
       "    </tr>\n",
       "  </tbody>\n",
       "</table>\n",
       "</div>"
      ],
      "text/plain": [
       "              Age      Salary\n",
       "count  299.000000  299.000000\n",
       "mean     0.466728    0.400570\n",
       "std      0.241894    0.191894\n",
       "min      0.000000    0.000000\n",
       "25%      0.275862    0.218906\n",
       "50%      0.448276    0.379131\n",
       "75%      0.689655    0.559383\n",
       "max      1.000000    1.000000"
      ]
     },
     "execution_count": 8,
     "metadata": {},
     "output_type": "execute_result"
    }
   ],
   "source": [
    "# Describe function on scaled feature\n",
    "X_train_transformed.describe()"
   ]
  },
  {
   "cell_type": "markdown",
   "id": "f53ff3a0",
   "metadata": {},
   "source": [
    "As above we can see that original features have minimum and maximum value of 24, 350 and 53, 250000 respectively but after normalization our data is transformed in the range of 0 to 1. Both features have minimum value 0 and maximum value 1. "
   ]
  },
  {
   "cell_type": "markdown",
   "id": "bba32937",
   "metadata": {},
   "source": [
    "### Ploting"
   ]
  },
  {
   "cell_type": "code",
   "execution_count": null,
   "id": "a2631534",
   "metadata": {},
   "outputs": [
    {
     "data": {
      "image/png": "[encoded data removed]",
      "text/plain": [
       "<Figure size 1200x500 with 2 Axes>"
      ]
     },
     "metadata": {},
     "output_type": "display_data"
    }
   ],
   "source": [
    "fig, (ax1, ax2) = plt.subplots(1, 2, figsize=(12, 5))\n",
    "\n",
    "ax1.scatter(X_train['Age'], X_train['Salary'])\n",
    "ax1.set_title(\"Before Scaling\")\n",
    "\n",
    "ax2.scatter(X_train_transformed['Age'], X_train_transformed['Salary'])\n",
    "ax2.set_title(\"After Scaling\")\n",
    "\n",
    "plt.show()"
   ]
  },
  {
   "cell_type": "markdown",
   "id": "5865ebc3",
   "metadata": {},
   "source": [
    "So, we can see that our data is compressed in the range 0-1."
   ]
  }
 ],
 "metadata": {
  "kernelspec": {
   "display_name": "python",
   "language": "python",
   "name": "python3"
  },
  "language_info": {
   "codemirror_mode": {
    "name": "ipython",
    "version": 3
   },
   "file_extension": ".py",
   "mimetype": "text/x-python",
   "name": "python",
   "nbconvert_exporter": "python",
   "pygments_lexer": "ipython3",
   "version": "3.12.3"
  }
 },
 "nbformat": 4,
 "nbformat_minor": 5
}
