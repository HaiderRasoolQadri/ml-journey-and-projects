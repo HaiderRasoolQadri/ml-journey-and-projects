{
 "cells": [
  {
   "cell_type": "code",
   "execution_count": 30,
   "id": "f9151ba8",
   "metadata": {},
   "outputs": [],
   "source": [
    "import numpy as np\n",
    "import pandas as pd\n",
    "import random\n",
    "\n",
    "from sklearn.datasets import load_diabetes\n",
    "from sklearn.linear_model import LinearRegression\n",
    "from sklearn.model_selection import train_test_split\n",
    "from sklearn.metrics import r2_score"
   ]
  },
  {
   "cell_type": "code",
   "execution_count": 31,
   "id": "7d834c5d",
   "metadata": {},
   "outputs": [],
   "source": [
    "X,y = load_diabetes(return_X_y=True)"
   ]
  },
  {
   "cell_type": "code",
   "execution_count": 32,
   "id": "ccfb3f82",
   "metadata": {},
   "outputs": [
    {
     "data": {
      "text/plain": [
       "array([[ 0.03807591,  0.05068012,  0.06169621, ..., -0.00259226,\n",
       "         0.01990749, -0.01764613],\n",
       "       [-0.00188202, -0.04464164, -0.05147406, ..., -0.03949338,\n",
       "        -0.06833155, -0.09220405],\n",
       "       [ 0.08529891,  0.05068012,  0.04445121, ..., -0.00259226,\n",
       "         0.00286131, -0.02593034],\n",
       "       ...,\n",
       "       [ 0.04170844,  0.05068012, -0.01590626, ..., -0.01107952,\n",
       "        -0.04688253,  0.01549073],\n",
       "       [-0.04547248, -0.04464164,  0.03906215, ...,  0.02655962,\n",
       "         0.04452873, -0.02593034],\n",
       "       [-0.04547248, -0.04464164, -0.0730303 , ..., -0.03949338,\n",
       "        -0.00422151,  0.00306441]])"
      ]
     },
     "execution_count": 32,
     "metadata": {},
     "output_type": "execute_result"
    }
   ],
   "source": [
    "X"
   ]
  },
  {
   "cell_type": "code",
   "execution_count": 33,
   "id": "a4281029",
   "metadata": {},
   "outputs": [
    {
     "name": "stdout",
     "output_type": "stream",
     "text": [
      "(442, 10)\n",
      "(442,)\n"
     ]
    }
   ],
   "source": [
    "print(X.shape)\n",
    "print(y.shape)"
   ]
  },
  {
   "cell_type": "code",
   "execution_count": 34,
   "id": "dad86738",
   "metadata": {},
   "outputs": [],
   "source": [
    "X_train,X_test,y_train,y_test = train_test_split(X,y,test_size=0.2,random_state=42)"
   ]
  },
  {
   "cell_type": "code",
   "execution_count": 35,
   "id": "759cb1b1",
   "metadata": {},
   "outputs": [],
   "source": [
    "# Lets create our own Mini-Batch Gradient Descent Class\n",
    "class MiniBatchGradientDescent:\n",
    "\n",
    "    def __init__(self, epochs, learning_rate, batch_size):\n",
    "        self.epochs = epochs\n",
    "        self.learning_rate = learning_rate\n",
    "        self.batch_size = batch_size\n",
    "        self.intercept_ = None\n",
    "        self.coef_ = None\n",
    "\n",
    "\n",
    "\n",
    "    def fit(self, X_train, y_train):   \n",
    "        # Initializaing parameters\n",
    "        self.intercept_ = 0\n",
    "        self.coef_ = np.ones(X_train.shape[1])\n",
    "\n",
    "        for i in range(self.epochs):\n",
    "            for j in range(int(X_train.shape[0]/self.batch_size)):\n",
    "                ran_batch = random.sample(range(X_train.shape[0]), self.batch_size)\n",
    "\n",
    "                # Updating coef_ and intercept_\n",
    "                y_hat = np.dot(X_train[ran_batch], self.coef_) + self.intercept_\n",
    "\n",
    "                intercept_der = -2 * np.mean(y_train[ran_batch] - y_hat) \n",
    "                self.intercept_ -= self.learning_rate * intercept_der\n",
    "\n",
    "                coef_der = -2 * np.dot((y_train[ran_batch] - y_hat), X_train[ran_batch]) / self.batch_size\n",
    "                self.coef_ -= self.learning_rate * coef_der\n",
    "\n",
    "        print(\"Intercept:\", self.intercept_)\n",
    "        print(\"Coefficient(s):\", self.coef_)\n",
    "\n",
    "    def predict(self, X_test):\n",
    "        return np.dot(X_test, self.coef_) + self.intercept_"
   ]
  },
  {
   "cell_type": "code",
   "execution_count": 36,
   "id": "b5e07f85",
   "metadata": {},
   "outputs": [
    {
     "name": "stdout",
     "output_type": "stream",
     "text": [
      "Intercept: 152.6476696671345\n",
      "Coefficient(s): [ 48.48100889 -13.8695841  167.50459146 127.14198455  34.48799481\n",
      "  19.46202209 -96.10527859  97.47777927 147.36628345  97.15998639]\n"
     ]
    }
   ],
   "source": [
    "mbgd = MiniBatchGradientDescent(epochs=100, batch_size=int(X_train.shape[0]/50), learning_rate=0.01)\n",
    "\n",
    "mbgd.fit(X_train, y_train)"
   ]
  },
  {
   "cell_type": "code",
   "execution_count": 37,
   "id": "3b75d1f8",
   "metadata": {},
   "outputs": [
    {
     "data": {
      "text/plain": [
       "array([164.91224717, 156.17261404, 162.35235036, 220.92195527,\n",
       "       153.55489727, 141.98820616, 197.13661699, 186.85811556,\n",
       "       127.81192375, 144.61452389, 129.84747053, 140.39890514,\n",
       "       101.79480566, 187.73955634, 136.28894838, 139.95614856,\n",
       "       192.79073992, 203.49252282, 155.16900113, 185.23741523,\n",
       "       161.86382582, 130.66936231, 116.47210022, 174.5808379 ,\n",
       "       143.89042798, 161.21276424, 167.31567372, 164.78459694,\n",
       "       100.01874615, 150.19940619, 164.08679045, 125.1209965 ,\n",
       "       149.19201645, 171.63434815, 169.83961359, 174.15055456,\n",
       "       147.97878616, 153.39309427, 169.62950871, 109.57579799,\n",
       "       123.70398095, 140.1306375 , 151.48496625, 168.5942792 ,\n",
       "       162.27445505, 113.10045351, 114.7903726 , 121.54463696,\n",
       "       107.14778539, 144.09393556, 134.4685397 , 107.42595237,\n",
       "       145.90784852, 131.63588983, 177.29857612, 140.13421517,\n",
       "       134.35226307, 169.84070737, 129.37966005, 105.20530044,\n",
       "       174.93077267, 160.09997536, 139.93119032, 142.64101808,\n",
       "       142.49258612, 172.76162886, 172.717263  , 159.2078922 ,\n",
       "       117.69922654, 149.45944056, 163.02640785, 183.35760679,\n",
       "       202.17612738, 145.55732812, 118.6685328 , 167.4577699 ,\n",
       "       185.59371061, 168.00747584, 164.00159581, 173.89418403,\n",
       "       130.96273162, 127.8112343 , 105.78798976, 116.00134527,\n",
       "       133.43573453, 118.0838675 , 102.50739282, 105.47266076,\n",
       "       143.07508052])"
      ]
     },
     "execution_count": 37,
     "metadata": {},
     "output_type": "execute_result"
    }
   ],
   "source": [
    "y_pred = mbgd.predict(X_test)\n",
    "y_pred"
   ]
  },
  {
   "cell_type": "code",
   "execution_count": 38,
   "id": "223769ca",
   "metadata": {},
   "outputs": [
    {
     "data": {
      "text/plain": [
       "0.3375623018445182"
      ]
     },
     "execution_count": 38,
     "metadata": {},
     "output_type": "execute_result"
    }
   ],
   "source": [
    "r2_score(y_test,y_pred)"
   ]
  }
 ],
 "metadata": {
  "kernelspec": {
   "display_name": "python",
   "language": "python",
   "name": "python3"
  },
  "language_info": {
   "codemirror_mode": {
    "name": "ipython",
    "version": 3
   },
   "file_extension": ".py",
   "mimetype": "text/x-python",
   "name": "python",
   "nbconvert_exporter": "python",
   "pygments_lexer": "ipython3",
   "version": "3.12.3"
  }
 },
 "nbformat": 4,
 "nbformat_minor": 5
}
