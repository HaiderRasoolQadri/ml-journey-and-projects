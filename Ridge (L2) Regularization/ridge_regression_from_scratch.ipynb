{
 "cells": [
  {
   "cell_type": "markdown",
   "id": "bf26e2e4",
   "metadata": {},
   "source": [
    "## Ridge Regression — Matrix Form\n",
    "\n",
    "Ridge Regression adds a regularization term to the cost function of ordinary least squares to penalize large coefficients, which helps prevent overfitting and handle multicollinearity.\n",
    "\n",
    "### Matrix Form\n",
    "\n",
    "$$y = X\\beta$$\n",
    "\n",
    "where:\n",
    "\n",
    "- $ y $: vector of outputs $((n \\times 1))$\n",
    "- $X$: design matrix including all predictors (and usually a column of 1s for the intercept) $(n \\times (p + 1))$\n",
    "- $\\beta$: vector of coefficients $((p + 1) \\times 1)$\n",
    "\n",
    "\n",
    "### Formula for Ridge Coefficients\n",
    "\n",
    "$$\\beta = (X^T X + \\lambda I)^{-1} X^T y$$\n",
    "\n",
    "where:\n",
    "\n",
    "- $I$ is the identity matrix of size $(p + 1) \\times (p + 1)$\n",
    "- The addition of $ \\lambda I $ ensures that $ X^T X + \\lambda I $ is invertible even when $ X^T X $ is singular\n",
    "\n",
    "\n",
    "### Interpretation\n",
    "\n",
    "- When $ \\lambda = 0 $: Ridge regression becomes **Ordinary Least Squares (OLS)**\n",
    "\n",
    "$$\\beta = (X^T X)^{-1} X^T y$$\n",
    "\n",
    "- When $ \\lambda \\to \\infty $: coefficients shrink toward **zero**\n",
    "\n",
    "### Components of \\( \\beta \\)\n",
    "$$\n",
    "\\beta =\n",
    "\\begin{bmatrix}\n",
    "\\beta_0 \\\\[4pt]\n",
    "\\beta_1 \\\\[2pt]\n",
    "\\beta_2 \\\\[2pt]\n",
    "\\vdots \\\\[2pt]\n",
    "\\beta_p\n",
    "\\end{bmatrix}\n",
    "$$\n",
    "\n",
    "where:\n",
    "\n",
    "- $ \\beta_0 $: intercept  \n",
    "- $ \\beta_1, \\beta_2, \\dots, \\beta_p $: slope coefficients (associated with each predictor)"
   ]
  },
  {
   "cell_type": "code",
   "execution_count": 18,
   "id": "80075753",
   "metadata": {},
   "outputs": [],
   "source": [
    "import numpy as np\n",
    "import pandas as pd\n",
    "\n",
    "from sklearn.model_selection import train_test_split\n",
    "from sklearn.metrics import r2_score\n",
    "\n",
    "from sklearn.datasets import load_diabetes"
   ]
  },
  {
   "cell_type": "code",
   "execution_count": 19,
   "id": "0ff8592e",
   "metadata": {},
   "outputs": [],
   "source": [
    "X, y = load_diabetes(return_X_y=True)"
   ]
  },
  {
   "cell_type": "code",
   "execution_count": 20,
   "id": "0077d660",
   "metadata": {},
   "outputs": [
    {
     "data": {
      "text/plain": [
       "(442, 10)"
      ]
     },
     "execution_count": 20,
     "metadata": {},
     "output_type": "execute_result"
    }
   ],
   "source": [
    "X.shape"
   ]
  },
  {
   "cell_type": "code",
   "execution_count": 21,
   "id": "fdbb62df",
   "metadata": {},
   "outputs": [],
   "source": [
    "X_train, X_test, y_train, y_test = train_test_split(X, y, test_size=0.2, random_state=42)"
   ]
  },
  {
   "cell_type": "code",
   "execution_count": 22,
   "id": "0d44ac1a",
   "metadata": {},
   "outputs": [],
   "source": [
    "class RidgeRegression:\n",
    "\n",
    "    def __init__(self, alpha=0.01): # alpha is equal to lambda\n",
    "        self.alpha = alpha\n",
    "        self.intercept_ = None\n",
    "        self.coef_ = None\n",
    "\n",
    "    def fit(self, X_train, y_train):\n",
    "        X_train = np.insert(X_train, 0, 1, axis=1)\n",
    "        I = np.identity(X_train.shape[1])\n",
    "        I[0][0] = 0 \n",
    "        betas = np.linalg.inv(np.dot(X_train.T, X_train) + self.alpha * I).dot(X_train.T).dot(y_train)\n",
    "        self.intercept_ = betas[0]\n",
    "        self.coef_ = betas[1:]\n",
    "\n",
    "        print(\"Intercept: \", self.intercept_)\n",
    "        print(\"====================================\")\n",
    "        print(\"Coefficient's: \", self.coef_)\n",
    "\n",
    "    def predict(self, X_test):\n",
    "        return np.dot(X_test, self.coef_) + self.intercept_"
   ]
  },
  {
   "cell_type": "code",
   "execution_count": 23,
   "id": "2d17a4c3",
   "metadata": {},
   "outputs": [
    {
     "name": "stdout",
     "output_type": "stream",
     "text": [
      "Intercept:  151.33659663172543\n",
      "====================================\n",
      "Coefficient's:  [  40.69342168 -237.00801965  546.16179161  341.80931747 -430.14629956\n",
      "  129.902301    -60.46081734  203.99084244  541.09802519   55.48255303]\n"
     ]
    }
   ],
   "source": [
    "ridge = RidgeRegression()\n",
    "\n",
    "ridge.fit(X_train, y_train)"
   ]
  },
  {
   "cell_type": "code",
   "execution_count": 24,
   "id": "afe719bc",
   "metadata": {},
   "outputs": [
    {
     "data": {
      "text/plain": [
       "array([140.48932729, 180.39358466, 138.26095011, 292.70472351,\n",
       "       122.54953663,  93.61127853, 256.94944065, 185.46640503,\n",
       "        86.4960167 , 110.59467587,  95.04571587, 164.19550268,\n",
       "        60.59798796, 205.82695673,  99.72760443, 131.91526636,\n",
       "       220.91412088, 247.87634694, 195.84576355, 215.78308828,\n",
       "       206.82609175,  89.01546302,  72.05374047, 188.47495433,\n",
       "       155.71143723, 161.25320029, 189.08097216, 178.04173865,\n",
       "        49.65268248, 110.50254797, 178.39994134,  90.08024148,\n",
       "       132.14592247, 181.98946205, 173.37370782, 190.81087767,\n",
       "       123.38010922, 118.90948131, 146.69459204,  60.67799313,\n",
       "        74.18510938, 108.16651262, 162.96843997, 151.55290246,\n",
       "       173.76202246,  64.5447612 ,  76.57353392, 109.83957197,\n",
       "        56.57149752, 163.18082268, 155.2330795 ,  64.94611225,\n",
       "       110.68142707, 108.69309211, 172.0029122 , 157.94954707,\n",
       "        94.8588743 , 208.43411608, 118.81317959,  72.11719648,\n",
       "       185.80485787, 203.47916991, 141.32147862, 105.78698586,\n",
       "       127.7320836 , 202.81245148, 168.55319265, 162.78471685,\n",
       "       120.58057123, 142.15774259, 180.74853766, 196.43247773,\n",
       "       234.92016137, 143.87413715,  81.91095295, 153.24099082,\n",
       "       193.15008313, 206.58954277, 158.12424491, 201.30838954,\n",
       "       112.09889377, 138.42466927,  54.61388245,  56.57971753,\n",
       "       112.85843725,  83.27187052,  81.11235009,  59.60136702,\n",
       "       164.50759424])"
      ]
     },
     "execution_count": 24,
     "metadata": {},
     "output_type": "execute_result"
    }
   ],
   "source": [
    "y_pred = ridge.predict(X_test)\n",
    "y_pred"
   ]
  },
  {
   "cell_type": "code",
   "execution_count": 25,
   "id": "a874da5c",
   "metadata": {},
   "outputs": [
    {
     "data": {
      "text/plain": [
       "0.4559819504579107"
      ]
     },
     "execution_count": 25,
     "metadata": {},
     "output_type": "execute_result"
    }
   ],
   "source": [
    "r2_score(y_test, y_pred)"
   ]
  }
 ],
 "metadata": {
  "kernelspec": {
   "display_name": "python",
   "language": "python",
   "name": "python3"
  },
  "language_info": {
   "codemirror_mode": {
    "name": "ipython",
    "version": 3
   },
   "file_extension": ".py",
   "mimetype": "text/x-python",
   "name": "python",
   "nbconvert_exporter": "python",
   "pygments_lexer": "ipython3",
   "version": "3.12.3"
  }
 },
 "nbformat": 4,
 "nbformat_minor": 5
}
